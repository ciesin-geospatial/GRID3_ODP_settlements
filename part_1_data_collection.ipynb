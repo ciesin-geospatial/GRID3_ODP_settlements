{
 "cells": [
  {
   "cell_type": "markdown",
   "id": "80c856f5",
   "metadata": {},
   "source": [
    "## Import libraries"
   ]
  },
  {
   "cell_type": "code",
   "execution_count": null,
   "id": "8f85597a",
   "metadata": {},
   "outputs": [],
   "source": [
    "from geo_utils import *"
   ]
  },
  {
   "cell_type": "markdown",
   "id": "d2e8860c",
   "metadata": {},
   "source": [
    "## Download OSM data"
   ]
  },
  {
   "cell_type": "code",
   "execution_count": null,
   "id": "c43e9e38",
   "metadata": {},
   "outputs": [],
   "source": [
    "# Specify country code so all output file will be labeled correctly\n",
    "country_alpha_3_code = 'ZMB'\n",
    "\n",
    "# Specify UTM zone EPSG code for this country, so that projection operation in this notebook knows the target CRS\n",
    "country_utm_epsg = 'epsg:32735' # Africa Albers equal area conic projection\n",
    "\n",
    "# Provide country name as input, the data will be downloaded as a PBF file \n",
    "\n",
    "# The filepath to that PBF file will be returned and saved in variable \"fp\"\n",
    "fp = get_osm_data_as_pbf(\"Zambia\")\n",
    "\n",
    "# We then pass the filepath to OSM object constructer to initialize the object\n",
    "osm = pyrosm.OSM(fp)"
   ]
  },
  {
   "cell_type": "markdown",
   "id": "87b4da08",
   "metadata": {},
   "source": [
    "## Load OSM Features"
   ]
  },
  {
   "cell_type": "markdown",
   "id": "fe0ef18c",
   "metadata": {},
   "source": [
    "### 1. Transportation Network"
   ]
  },
  {
   "cell_type": "code",
   "execution_count": null,
   "id": "1e3dccda",
   "metadata": {},
   "outputs": [],
   "source": [
    "driving_network = osm.get_network(network_type=\"driving\")"
   ]
  },
  {
   "cell_type": "markdown",
   "id": "de6dffe9",
   "metadata": {},
   "source": [
    "*Network type choices:*\n",
    "\n",
    "- walking\n",
    "- cycling\n",
    "- driving\n",
    "- driving+service (includes also public service vehicles)\n",
    "- all (includes all modes listed above)"
   ]
  },
  {
   "cell_type": "code",
   "execution_count": null,
   "id": "47067e66",
   "metadata": {},
   "outputs": [],
   "source": [
    "driving_network.head(5)"
   ]
  },
  {
   "cell_type": "markdown",
   "id": "c8f53792",
   "metadata": {},
   "source": [
    "<br>\n",
    "By default, the driving network data will contain many fields that are derived and expanded from the raw OSM data. However, most of the fields will have missing values for majority of the roads. \n",
    "<br>\n",
    "<br>"
   ]
  },
  {
   "cell_type": "code",
   "execution_count": null,
   "id": "1cc78414",
   "metadata": {},
   "outputs": [],
   "source": [
    "(driving_network.notnull().mean().sort_values(ascending=False)*100).reset_index().rename(columns={'index':'field',0:'non-null rate'})"
   ]
  },
  {
   "cell_type": "markdown",
   "id": "2c61acfd",
   "metadata": {},
   "source": [
    "<br>\n",
    "Since our goal is to use OSM data in predicting settlements, we want the fields to have full coverage over the country and similar availability in urban and rural areas alike. Thus, we will not use fields that are only partial available. We can do this by dropping all columns with missing values.\n",
    "<br>\n",
    "<br>"
   ]
  },
  {
   "cell_type": "code",
   "execution_count": null,
   "id": "d2acc31b",
   "metadata": {},
   "outputs": [],
   "source": [
    "driving_network = driving_network.dropna(axis=1)"
   ]
  },
  {
   "cell_type": "markdown",
   "id": "c558063d",
   "metadata": {},
   "source": [
    "<br>\n",
    "<br>\n",
    "Walking + cycling is not a preset filter, but we can create such a layer by 1) identifying which roads are uniquely for cycling; 2) merging the uniquely for cycling roads with the walking roads. This way, duplicates are avoided, which is desirable when two datasets overlay a lot.\n",
    "<br>\n",
    "<br>"
   ]
  },
  {
   "cell_type": "code",
   "execution_count": null,
   "id": "3a347ad3",
   "metadata": {},
   "outputs": [],
   "source": [
    "walking_network = osm.get_network(network_type=\"walking\").dropna(axis=1)\n",
    "\n",
    "cycling_network = osm.get_network(network_type=\"cycling\").dropna(axis=1)\n",
    "\n",
    "just_cycling_no_walking_network = get_not_contained_part(cycling_network, walking_network)\n",
    "\n",
    "print(len(just_cycling_no_walking_network), 'roads are just for cycling not for walking.')\n",
    "\n",
    "walking_network = pd.concat([walking_network, just_cycling_no_walking_network], ignore_index=True)"
   ]
  },
  {
   "cell_type": "markdown",
   "id": "1ee14c73",
   "metadata": {},
   "source": [
    "<br>\n",
    "Similarly, we can combine walking and driving network this way and mark what is the fastest modality on each road.\n",
    "<br>\n",
    "<br>"
   ]
  },
  {
   "cell_type": "code",
   "execution_count": null,
   "id": "380d5673",
   "metadata": {},
   "outputs": [],
   "source": [
    "just_walking_no_driving =  get_not_contained_part(walking_network, driving_network)\n",
    "\n",
    "print('Out of',len(walking_network),'walkable roads,', len(just_walking_no_driving), 'roads are just for walking not for driving.')"
   ]
  },
  {
   "cell_type": "code",
   "execution_count": null,
   "id": "24f4d0f9",
   "metadata": {},
   "outputs": [],
   "source": [
    "just_walking_no_driving['fastest_modality'] = 'walking'\n",
    "\n",
    "driving_network['fastest_modality'] = 'driving'\n",
    "\n",
    "road_network = pd.concat([just_walking_no_driving, driving_network], ignore_index = True)"
   ]
  },
  {
   "cell_type": "markdown",
   "id": "389d5d81",
   "metadata": {},
   "source": [
    "<br>\n",
    "Save the combined road network to Feather file format. Developed under Apache Arrow project, Feather file is smaller in size on disk, faster to read and write. Only limitation is that mainstream GIS software will not be able to read it directly. However, we are mainly using the dataset in Python/R analytical environment, so it will do fine.\n",
    "<br>\n",
    "<br>"
   ]
  },
  {
   "cell_type": "code",
   "execution_count": null,
   "id": "34b2b138",
   "metadata": {},
   "outputs": [],
   "source": [
    "road_network.to_feather('./data/'+country_alpha_3_code+'_osm_road_network_v20220418.feather')"
   ]
  },
  {
   "cell_type": "markdown",
   "id": "99634f7d",
   "metadata": {},
   "source": [
    "### 2. Point of Interest (POI)"
   ]
  },
  {
   "cell_type": "markdown",
   "id": "6b49c6e9",
   "metadata": {},
   "source": [
    "Presence of POIs are usually strong predictor of the existence of settlements nearby. While POI data on OSM may have very uneven coverage depending on region and level of contribution on the ground, it is worth investigating if they have predictive power when they exist."
   ]
  },
  {
   "cell_type": "code",
   "execution_count": null,
   "id": "29b1b879",
   "metadata": {},
   "outputs": [],
   "source": [
    "# Combine entries that have amenity tag and/or shop tag set to True to get more POIs\n",
    "pois = osm.get_pois(custom_filter={'amenity': True, \"shop\": True})\n",
    "# When both tags exist, use amenity first and use shop tag when amenity tag is not available\n",
    "pois[\"poi_type\"] = pois[\"amenity\"].fillna(pois[\"shop\"])\n",
    "\n",
    "pois = pois.dropna(axis=1)"
   ]
  },
  {
   "cell_type": "markdown",
   "id": "a1cc9079",
   "metadata": {},
   "source": [
    "\n",
    "POIs have different shapes, using centroid operation to represent each POI as a point"
   ]
  },
  {
   "cell_type": "code",
   "execution_count": null,
   "id": "35d177f0",
   "metadata": {},
   "outputs": [],
   "source": [
    "pois['geometry_centroid'] = pois.geometry.to_crs(country_utm_epsg).centroid.to_crs(pois.crs)\n",
    "pois = pois.set_geometry('geometry_centroid', drop=True)"
   ]
  },
  {
   "cell_type": "code",
   "execution_count": null,
   "id": "0f80c68f",
   "metadata": {},
   "outputs": [],
   "source": [
    "pois.to_feather('./data/ZMB_osm_pois_v20220418.feather')"
   ]
  },
  {
   "cell_type": "markdown",
   "id": "7d769756",
   "metadata": {},
   "source": [
    "### 3. Land Use"
   ]
  },
  {
   "cell_type": "code",
   "execution_count": null,
   "id": "f5b7b68b",
   "metadata": {},
   "outputs": [],
   "source": [
    "landuse = osm.get_landuse().dropna(axis=1)"
   ]
  },
  {
   "cell_type": "code",
   "execution_count": null,
   "id": "a175ebad",
   "metadata": {},
   "outputs": [],
   "source": [
    "landuse.landuse.value_counts().head(10).plot(kind='bar')\n",
    "plt.xticks(rotation = 45)\n",
    "_ = plt.title('Number of land use areas by category')"
   ]
  },
  {
   "cell_type": "code",
   "execution_count": null,
   "id": "63a84c16",
   "metadata": {},
   "outputs": [],
   "source": [
    "landuse.to_feather('./data/ZMB_osm_landuse_v20220418.feather')"
   ]
  },
  {
   "cell_type": "markdown",
   "id": "f279cbee",
   "metadata": {},
   "source": [
    "### 4. Buildings"
   ]
  },
  {
   "cell_type": "markdown",
   "id": "3ee738f0",
   "metadata": {},
   "source": [
    "OSM also provide building level data, some of the buildings even have tags showing their use, material, and other information. However, the same problem of uneven level of missing values affect this source of data, making it more biased for settlement prediction."
   ]
  },
  {
   "cell_type": "code",
   "execution_count": null,
   "id": "789162a7",
   "metadata": {},
   "outputs": [],
   "source": [
    "buildings = osm.get_buildings().dropna(axis=1)\n",
    "\n",
    "buildings['geom_centroid'] = buildings.geometry.to_crs(country_utm_epsg).centroid.to_crs(buildings.crs)\n",
    "buildings = buildings.set_geometry('geom_centroid')\n",
    "\n",
    "buildings.to_feather('./data/ZMB_osm_buildings_v20220418.feather')"
   ]
  }
 ],
 "metadata": {
  "kernelspec": {
   "display_name": "Python 3 (ipykernel)",
   "language": "python",
   "name": "python3"
  },
  "language_info": {
   "codemirror_mode": {
    "name": "ipython",
    "version": 3
   },
   "file_extension": ".py",
   "mimetype": "text/x-python",
   "name": "python",
   "nbconvert_exporter": "python",
   "pygments_lexer": "ipython3",
   "version": "3.10.4"
  }
 },
 "nbformat": 4,
 "nbformat_minor": 5
}
