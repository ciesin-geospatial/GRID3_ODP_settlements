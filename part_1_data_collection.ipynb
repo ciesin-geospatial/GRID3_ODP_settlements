{
 "cells": [
  {
   "cell_type": "markdown",
   "id": "80c856f5",
   "metadata": {},
   "source": [
    "## Import libraries"
   ]
  },
  {
   "cell_type": "code",
   "execution_count": 2,
   "id": "8f85597a",
   "metadata": {},
   "outputs": [],
   "source": [
    "from geo_utils import *"
   ]
  },
  {
   "cell_type": "markdown",
   "id": "d2e8860c",
   "metadata": {},
   "source": [
    "## Download OSM data"
   ]
  },
  {
   "cell_type": "code",
   "execution_count": 33,
   "id": "c43e9e38",
   "metadata": {},
   "outputs": [],
   "source": [
    "# Specify country code so all output file will be labeled correctly\n",
    "country_alpha_3_code = 'ZMB'\n",
    "\n",
    "# Specify UTM zone EPSG code for this country, so that projection operation in this notebook knows the target CRS\n",
    "country_utm_epsg = 'epsg:32735' # Africa Albers equal area conic projection\n",
    "\n",
    "# Provide country name as input, the data will be downloaded as a PBF file \n",
    "\n",
    "# The filepath to that PBF file will be returned and saved in variable \"fp\"\n",
    "fp = get_osm_data_as_pbf(\"Zambia\")\n",
    "\n",
    "# We then pass the filepath to OSM object constructer to initialize the object\n",
    "osm = pyrosm.OSM(fp)"
   ]
  },
  {
   "cell_type": "markdown",
   "id": "87b4da08",
   "metadata": {},
   "source": [
    "## Load OSM Features"
   ]
  },
  {
   "cell_type": "markdown",
   "id": "fe0ef18c",
   "metadata": {},
   "source": [
    "### 1. Transportation Network"
   ]
  },
  {
   "cell_type": "code",
   "execution_count": 4,
   "id": "1e3dccda",
   "metadata": {},
   "outputs": [],
   "source": [
    "driving_network = osm.get_network(network_type=\"driving\")"
   ]
  },
  {
   "cell_type": "markdown",
   "id": "de6dffe9",
   "metadata": {},
   "source": [
    "*Network type choices:*\n",
    "\n",
    "- walking\n",
    "- cycling\n",
    "- driving\n",
    "- driving+service (includes also public service vehicles)\n",
    "- all (includes all modes listed above)"
   ]
  },
  {
   "cell_type": "code",
   "execution_count": 5,
   "id": "47067e66",
   "metadata": {},
   "outputs": [
    {
     "data": {
      "text/html": [
       "<div>\n",
       "<style scoped>\n",
       "    .dataframe tbody tr th:only-of-type {\n",
       "        vertical-align: middle;\n",
       "    }\n",
       "\n",
       "    .dataframe tbody tr th {\n",
       "        vertical-align: top;\n",
       "    }\n",
       "\n",
       "    .dataframe thead th {\n",
       "        text-align: right;\n",
       "    }\n",
       "</style>\n",
       "<table border=\"1\" class=\"dataframe\">\n",
       "  <thead>\n",
       "    <tr style=\"text-align: right;\">\n",
       "      <th></th>\n",
       "      <th>access</th>\n",
       "      <th>area</th>\n",
       "      <th>bicycle</th>\n",
       "      <th>bridge</th>\n",
       "      <th>cycleway</th>\n",
       "      <th>foot</th>\n",
       "      <th>highway</th>\n",
       "      <th>junction</th>\n",
       "      <th>lanes</th>\n",
       "      <th>lit</th>\n",
       "      <th>...</th>\n",
       "      <th>tracktype</th>\n",
       "      <th>tunnel</th>\n",
       "      <th>width</th>\n",
       "      <th>id</th>\n",
       "      <th>timestamp</th>\n",
       "      <th>version</th>\n",
       "      <th>tags</th>\n",
       "      <th>osm_type</th>\n",
       "      <th>geometry</th>\n",
       "      <th>length</th>\n",
       "    </tr>\n",
       "  </thead>\n",
       "  <tbody>\n",
       "    <tr>\n",
       "      <th>0</th>\n",
       "      <td>None</td>\n",
       "      <td>None</td>\n",
       "      <td>None</td>\n",
       "      <td>None</td>\n",
       "      <td>None</td>\n",
       "      <td>None</td>\n",
       "      <td>unclassified</td>\n",
       "      <td>None</td>\n",
       "      <td>None</td>\n",
       "      <td>None</td>\n",
       "      <td>...</td>\n",
       "      <td>None</td>\n",
       "      <td>None</td>\n",
       "      <td>None</td>\n",
       "      <td>10423486</td>\n",
       "      <td>1548773450</td>\n",
       "      <td>21</td>\n",
       "      <td>None</td>\n",
       "      <td>way</td>\n",
       "      <td>MULTILINESTRING ((25.85570 -17.87637, 25.85317...</td>\n",
       "      <td>1760.0</td>\n",
       "    </tr>\n",
       "    <tr>\n",
       "      <th>1</th>\n",
       "      <td>None</td>\n",
       "      <td>None</td>\n",
       "      <td>None</td>\n",
       "      <td>None</td>\n",
       "      <td>None</td>\n",
       "      <td>None</td>\n",
       "      <td>residential</td>\n",
       "      <td>None</td>\n",
       "      <td>None</td>\n",
       "      <td>None</td>\n",
       "      <td>...</td>\n",
       "      <td>None</td>\n",
       "      <td>None</td>\n",
       "      <td>None</td>\n",
       "      <td>10423488</td>\n",
       "      <td>1548773450</td>\n",
       "      <td>9</td>\n",
       "      <td>None</td>\n",
       "      <td>way</td>\n",
       "      <td>MULTILINESTRING ((25.84709 -17.88085, 25.84697...</td>\n",
       "      <td>730.0</td>\n",
       "    </tr>\n",
       "    <tr>\n",
       "      <th>2</th>\n",
       "      <td>None</td>\n",
       "      <td>None</td>\n",
       "      <td>None</td>\n",
       "      <td>None</td>\n",
       "      <td>None</td>\n",
       "      <td>None</td>\n",
       "      <td>trunk</td>\n",
       "      <td>None</td>\n",
       "      <td>None</td>\n",
       "      <td>None</td>\n",
       "      <td>...</td>\n",
       "      <td>None</td>\n",
       "      <td>None</td>\n",
       "      <td>None</td>\n",
       "      <td>10424051</td>\n",
       "      <td>1644214027</td>\n",
       "      <td>36</td>\n",
       "      <td>{\"source\":\"GPS\"}</td>\n",
       "      <td>way</td>\n",
       "      <td>MULTILINESTRING ((25.27659 -17.77594, 25.27605...</td>\n",
       "      <td>893.0</td>\n",
       "    </tr>\n",
       "    <tr>\n",
       "      <th>3</th>\n",
       "      <td>None</td>\n",
       "      <td>None</td>\n",
       "      <td>None</td>\n",
       "      <td>None</td>\n",
       "      <td>None</td>\n",
       "      <td>None</td>\n",
       "      <td>secondary</td>\n",
       "      <td>None</td>\n",
       "      <td>None</td>\n",
       "      <td>None</td>\n",
       "      <td>...</td>\n",
       "      <td>None</td>\n",
       "      <td>None</td>\n",
       "      <td>None</td>\n",
       "      <td>21486874</td>\n",
       "      <td>1640697241</td>\n",
       "      <td>27</td>\n",
       "      <td>None</td>\n",
       "      <td>way</td>\n",
       "      <td>MULTILINESTRING ((30.09093 -9.04848, 30.08510 ...</td>\n",
       "      <td>27775.0</td>\n",
       "    </tr>\n",
       "    <tr>\n",
       "      <th>4</th>\n",
       "      <td>None</td>\n",
       "      <td>None</td>\n",
       "      <td>None</td>\n",
       "      <td>None</td>\n",
       "      <td>None</td>\n",
       "      <td>None</td>\n",
       "      <td>secondary</td>\n",
       "      <td>None</td>\n",
       "      <td>None</td>\n",
       "      <td>None</td>\n",
       "      <td>...</td>\n",
       "      <td>None</td>\n",
       "      <td>None</td>\n",
       "      <td>None</td>\n",
       "      <td>21511080</td>\n",
       "      <td>1640157618</td>\n",
       "      <td>32</td>\n",
       "      <td>None</td>\n",
       "      <td>way</td>\n",
       "      <td>MULTILINESTRING ((30.12411 -9.36392, 30.12521 ...</td>\n",
       "      <td>31746.0</td>\n",
       "    </tr>\n",
       "  </tbody>\n",
       "</table>\n",
       "<p>5 rows × 33 columns</p>\n",
       "</div>"
      ],
      "text/plain": [
       "  access  area bicycle bridge cycleway  foot       highway junction lanes  \\\n",
       "0   None  None    None   None     None  None  unclassified     None  None   \n",
       "1   None  None    None   None     None  None   residential     None  None   \n",
       "2   None  None    None   None     None  None         trunk     None  None   \n",
       "3   None  None    None   None     None  None     secondary     None  None   \n",
       "4   None  None    None   None     None  None     secondary     None  None   \n",
       "\n",
       "    lit  ... tracktype tunnel width        id   timestamp version  \\\n",
       "0  None  ...      None   None  None  10423486  1548773450      21   \n",
       "1  None  ...      None   None  None  10423488  1548773450       9   \n",
       "2  None  ...      None   None  None  10424051  1644214027      36   \n",
       "3  None  ...      None   None  None  21486874  1640697241      27   \n",
       "4  None  ...      None   None  None  21511080  1640157618      32   \n",
       "\n",
       "               tags osm_type  \\\n",
       "0              None      way   \n",
       "1              None      way   \n",
       "2  {\"source\":\"GPS\"}      way   \n",
       "3              None      way   \n",
       "4              None      way   \n",
       "\n",
       "                                            geometry   length  \n",
       "0  MULTILINESTRING ((25.85570 -17.87637, 25.85317...   1760.0  \n",
       "1  MULTILINESTRING ((25.84709 -17.88085, 25.84697...    730.0  \n",
       "2  MULTILINESTRING ((25.27659 -17.77594, 25.27605...    893.0  \n",
       "3  MULTILINESTRING ((30.09093 -9.04848, 30.08510 ...  27775.0  \n",
       "4  MULTILINESTRING ((30.12411 -9.36392, 30.12521 ...  31746.0  \n",
       "\n",
       "[5 rows x 33 columns]"
      ]
     },
     "execution_count": 5,
     "metadata": {},
     "output_type": "execute_result"
    }
   ],
   "source": [
    "driving_network.head(5)"
   ]
  },
  {
   "cell_type": "markdown",
   "id": "c8f53792",
   "metadata": {},
   "source": [
    "<br>\n",
    "By default, the driving network data will contain many fields that are derived and expanded from the raw OSM data. However, most of the fields will have missing values for majority of the roads. \n",
    "<br>\n",
    "<br>"
   ]
  },
  {
   "cell_type": "code",
   "execution_count": 18,
   "id": "1cc78414",
   "metadata": {},
   "outputs": [
    {
     "data": {
      "text/html": [
       "<div>\n",
       "<style scoped>\n",
       "    .dataframe tbody tr th:only-of-type {\n",
       "        vertical-align: middle;\n",
       "    }\n",
       "\n",
       "    .dataframe tbody tr th {\n",
       "        vertical-align: top;\n",
       "    }\n",
       "\n",
       "    .dataframe thead th {\n",
       "        text-align: right;\n",
       "    }\n",
       "</style>\n",
       "<table border=\"1\" class=\"dataframe\">\n",
       "  <thead>\n",
       "    <tr style=\"text-align: right;\">\n",
       "      <th></th>\n",
       "      <th>field</th>\n",
       "      <th>non-null rate</th>\n",
       "    </tr>\n",
       "  </thead>\n",
       "  <tbody>\n",
       "    <tr>\n",
       "      <th>0</th>\n",
       "      <td>length</td>\n",
       "      <td>100.000000</td>\n",
       "    </tr>\n",
       "    <tr>\n",
       "      <th>1</th>\n",
       "      <td>geometry</td>\n",
       "      <td>100.000000</td>\n",
       "    </tr>\n",
       "    <tr>\n",
       "      <th>2</th>\n",
       "      <td>osm_type</td>\n",
       "      <td>100.000000</td>\n",
       "    </tr>\n",
       "    <tr>\n",
       "      <th>3</th>\n",
       "      <td>highway</td>\n",
       "      <td>100.000000</td>\n",
       "    </tr>\n",
       "    <tr>\n",
       "      <th>4</th>\n",
       "      <td>version</td>\n",
       "      <td>100.000000</td>\n",
       "    </tr>\n",
       "    <tr>\n",
       "      <th>5</th>\n",
       "      <td>timestamp</td>\n",
       "      <td>100.000000</td>\n",
       "    </tr>\n",
       "    <tr>\n",
       "      <th>6</th>\n",
       "      <td>id</td>\n",
       "      <td>100.000000</td>\n",
       "    </tr>\n",
       "    <tr>\n",
       "      <th>7</th>\n",
       "      <td>surface</td>\n",
       "      <td>20.106092</td>\n",
       "    </tr>\n",
       "    <tr>\n",
       "      <th>8</th>\n",
       "      <td>tags</td>\n",
       "      <td>7.978513</td>\n",
       "    </tr>\n",
       "    <tr>\n",
       "      <th>9</th>\n",
       "      <td>ref</td>\n",
       "      <td>4.242194</td>\n",
       "    </tr>\n",
       "    <tr>\n",
       "      <th>10</th>\n",
       "      <td>name</td>\n",
       "      <td>2.582270</td>\n",
       "    </tr>\n",
       "    <tr>\n",
       "      <th>11</th>\n",
       "      <td>bridge</td>\n",
       "      <td>2.058515</td>\n",
       "    </tr>\n",
       "    <tr>\n",
       "      <th>12</th>\n",
       "      <td>oneway</td>\n",
       "      <td>1.864062</td>\n",
       "    </tr>\n",
       "    <tr>\n",
       "      <th>13</th>\n",
       "      <td>service</td>\n",
       "      <td>1.201731</td>\n",
       "    </tr>\n",
       "    <tr>\n",
       "      <th>14</th>\n",
       "      <td>lanes</td>\n",
       "      <td>0.932776</td>\n",
       "    </tr>\n",
       "    <tr>\n",
       "      <th>15</th>\n",
       "      <td>access</td>\n",
       "      <td>0.674251</td>\n",
       "    </tr>\n",
       "    <tr>\n",
       "      <th>16</th>\n",
       "      <td>smoothness</td>\n",
       "      <td>0.491719</td>\n",
       "    </tr>\n",
       "    <tr>\n",
       "      <th>17</th>\n",
       "      <td>maxspeed</td>\n",
       "      <td>0.415726</td>\n",
       "    </tr>\n",
       "    <tr>\n",
       "      <th>18</th>\n",
       "      <td>tracktype</td>\n",
       "      <td>0.277151</td>\n",
       "    </tr>\n",
       "    <tr>\n",
       "      <th>19</th>\n",
       "      <td>junction</td>\n",
       "      <td>0.233939</td>\n",
       "    </tr>\n",
       "    <tr>\n",
       "      <th>20</th>\n",
       "      <td>bicycle</td>\n",
       "      <td>0.122930</td>\n",
       "    </tr>\n",
       "    <tr>\n",
       "      <th>21</th>\n",
       "      <td>foot</td>\n",
       "      <td>0.116970</td>\n",
       "    </tr>\n",
       "    <tr>\n",
       "      <th>22</th>\n",
       "      <td>motor_vehicle</td>\n",
       "      <td>0.115479</td>\n",
       "    </tr>\n",
       "    <tr>\n",
       "      <th>23</th>\n",
       "      <td>width</td>\n",
       "      <td>0.067053</td>\n",
       "    </tr>\n",
       "    <tr>\n",
       "      <th>24</th>\n",
       "      <td>sidewalk</td>\n",
       "      <td>0.056622</td>\n",
       "    </tr>\n",
       "    <tr>\n",
       "      <th>25</th>\n",
       "      <td>lit</td>\n",
       "      <td>0.031291</td>\n",
       "    </tr>\n",
       "    <tr>\n",
       "      <th>26</th>\n",
       "      <td>cycleway</td>\n",
       "      <td>0.011175</td>\n",
       "    </tr>\n",
       "    <tr>\n",
       "      <th>27</th>\n",
       "      <td>tunnel</td>\n",
       "      <td>0.007450</td>\n",
       "    </tr>\n",
       "    <tr>\n",
       "      <th>28</th>\n",
       "      <td>motorroad</td>\n",
       "      <td>0.002980</td>\n",
       "    </tr>\n",
       "    <tr>\n",
       "      <th>29</th>\n",
       "      <td>motorcar</td>\n",
       "      <td>0.001490</td>\n",
       "    </tr>\n",
       "    <tr>\n",
       "      <th>30</th>\n",
       "      <td>area</td>\n",
       "      <td>0.000745</td>\n",
       "    </tr>\n",
       "    <tr>\n",
       "      <th>31</th>\n",
       "      <td>segregated</td>\n",
       "      <td>0.000745</td>\n",
       "    </tr>\n",
       "    <tr>\n",
       "      <th>32</th>\n",
       "      <td>passing_places</td>\n",
       "      <td>0.000745</td>\n",
       "    </tr>\n",
       "  </tbody>\n",
       "</table>\n",
       "</div>"
      ],
      "text/plain": [
       "             field  non-null rate\n",
       "0           length     100.000000\n",
       "1         geometry     100.000000\n",
       "2         osm_type     100.000000\n",
       "3          highway     100.000000\n",
       "4          version     100.000000\n",
       "5        timestamp     100.000000\n",
       "6               id     100.000000\n",
       "7          surface      20.106092\n",
       "8             tags       7.978513\n",
       "9              ref       4.242194\n",
       "10            name       2.582270\n",
       "11          bridge       2.058515\n",
       "12          oneway       1.864062\n",
       "13         service       1.201731\n",
       "14           lanes       0.932776\n",
       "15          access       0.674251\n",
       "16      smoothness       0.491719\n",
       "17        maxspeed       0.415726\n",
       "18       tracktype       0.277151\n",
       "19        junction       0.233939\n",
       "20         bicycle       0.122930\n",
       "21            foot       0.116970\n",
       "22   motor_vehicle       0.115479\n",
       "23           width       0.067053\n",
       "24        sidewalk       0.056622\n",
       "25             lit       0.031291\n",
       "26        cycleway       0.011175\n",
       "27          tunnel       0.007450\n",
       "28       motorroad       0.002980\n",
       "29        motorcar       0.001490\n",
       "30            area       0.000745\n",
       "31      segregated       0.000745\n",
       "32  passing_places       0.000745"
      ]
     },
     "execution_count": 18,
     "metadata": {},
     "output_type": "execute_result"
    }
   ],
   "source": [
    "(driving_network.notnull().mean().sort_values(ascending=False)*100).reset_index().rename(columns={'index':'field',0:'non-null rate'})"
   ]
  },
  {
   "cell_type": "markdown",
   "id": "2c61acfd",
   "metadata": {},
   "source": [
    "<br>\n",
    "Since our goal is to use OSM data in predicting settlements, we want the fields to have full coverage over the country and similar availability in urban and rural areas alike. Thus, we will not use fields that are only partial available. We can do this by dropping all columns with missing values.\n",
    "<br>\n",
    "<br>"
   ]
  },
  {
   "cell_type": "code",
   "execution_count": 19,
   "id": "d2acc31b",
   "metadata": {},
   "outputs": [],
   "source": [
    "driving_network = driving_network.dropna(axis=1)"
   ]
  },
  {
   "cell_type": "markdown",
   "id": "c558063d",
   "metadata": {},
   "source": [
    "<br>\n",
    "<br>\n",
    "Walking + cycling is not a preset filter, but we can create such a layer by 1) identifying which roads are uniquely for cycling; 2) merging the uniquely for cycling roads with the walking roads. This way, duplicates are avoided, which is desirable when two datasets overlay a lot.\n",
    "<br>\n",
    "<br>"
   ]
  },
  {
   "cell_type": "code",
   "execution_count": 21,
   "id": "3a347ad3",
   "metadata": {},
   "outputs": [
    {
     "name": "stdout",
     "output_type": "stream",
     "text": [
      "6 roads are just for cycling not for walking.\n"
     ]
    }
   ],
   "source": [
    "walking_network = osm.get_network(network_type=\"walking\").dropna(axis=1)\n",
    "\n",
    "cycling_network = osm.get_network(network_type=\"cycling\").dropna(axis=1)\n",
    "\n",
    "just_cycling_no_walking_network = get_not_contained_part(cycling_network, walking_network)\n",
    "\n",
    "print(len(just_cycling_no_walking_network), 'roads are just for cycling not for walking.')\n",
    "\n",
    "walking_network = pd.concat([walking_network, just_cycling_no_walking_network], ignore_index=True)"
   ]
  },
  {
   "cell_type": "markdown",
   "id": "1ee14c73",
   "metadata": {},
   "source": [
    "<br>\n",
    "Similarly, we can combine walking and driving network this way and mark what is the fastest modality on each road.\n",
    "<br>\n",
    "<br>"
   ]
  },
  {
   "cell_type": "code",
   "execution_count": 27,
   "id": "380d5673",
   "metadata": {},
   "outputs": [
    {
     "name": "stdout",
     "output_type": "stream",
     "text": [
      "Out of 342546 walkable roads, 208438 roads are just for walking not for driving.\n"
     ]
    }
   ],
   "source": [
    "just_walking_no_driving =  get_not_contained_part(walking_network, driving_network)\n",
    "\n",
    "print('Out of',len(walking_network),'walkable roads,', len(just_walking_no_driving), 'roads are just for walking not for driving.')"
   ]
  },
  {
   "cell_type": "code",
   "execution_count": 28,
   "id": "24f4d0f9",
   "metadata": {},
   "outputs": [],
   "source": [
    "just_walking_no_driving['fastest_modality'] = 'walking'\n",
    "\n",
    "driving_network['fastest_modality'] = 'driving'\n",
    "\n",
    "road_network = pd.concat([just_walking_no_driving, driving_network], ignore_index = True)"
   ]
  },
  {
   "cell_type": "markdown",
   "id": "389d5d81",
   "metadata": {},
   "source": [
    "<br>\n",
    "Save the combined road network to Feather file format. Developed under Apache Arrow project, Feather file is smaller in size on disk, faster to read and write. Only limitation is that mainstream GIS software will not be able to read it directly. However, we are mainly using the dataset in Python/R analytical environment, so it will do fine.\n",
    "<br>\n",
    "<br>"
   ]
  },
  {
   "cell_type": "code",
   "execution_count": 36,
   "id": "34b2b138",
   "metadata": {},
   "outputs": [],
   "source": [
    "road_network.to_feather('./data/'+country_alpha_3_code+'_osm_road_network_v20220418.feather')"
   ]
  },
  {
   "cell_type": "markdown",
   "id": "99634f7d",
   "metadata": {},
   "source": [
    "### 2. Point of Interest (POI)"
   ]
  },
  {
   "cell_type": "markdown",
   "id": "6b49c6e9",
   "metadata": {},
   "source": [
    "Presence of POIs are usually strong predictor of the existence of settlements nearby. While POI data on OSM may have very uneven coverage depending on region and level of contribution on the ground, it is worth investigating if they have predictive power when they exist."
   ]
  },
  {
   "cell_type": "code",
   "execution_count": null,
   "id": "29b1b879",
   "metadata": {},
   "outputs": [],
   "source": [
    "# Combine entries that have amenity tag and/or shop tag set to True to get more POIs\n",
    "pois = osm.get_pois(custom_filter={'amenity': True, \"shop\": True})\n",
    "# When both tags exist, use amenity first and use shop tag when amenity tag is not available\n",
    "pois[\"poi_type\"] = pois[\"amenity\"].fillna(pois[\"shop\"])\n",
    "\n",
    "pois = pois.dropna(axis=1)"
   ]
  },
  {
   "cell_type": "markdown",
   "id": "a1cc9079",
   "metadata": {},
   "source": [
    "\n",
    "POIs have different shapes, using centroid operation to represent each POI as a point"
   ]
  },
  {
   "cell_type": "code",
   "execution_count": null,
   "id": "35d177f0",
   "metadata": {},
   "outputs": [],
   "source": [
    "pois['geometry_centroid'] = pois.geometry.to_crs(country_utm_epsg).centroid.to_crs(pois.crs)\n",
    "pois = pois.set_geometry('geometry_centroid', drop=True)"
   ]
  },
  {
   "cell_type": "code",
   "execution_count": 46,
   "id": "0f80c68f",
   "metadata": {},
   "outputs": [],
   "source": [
    "pois.to_feather('./data/ZMB_osm_pois_v20220418.feather')"
   ]
  },
  {
   "cell_type": "markdown",
   "id": "7d769756",
   "metadata": {},
   "source": [
    "### 3. Land Use"
   ]
  },
  {
   "cell_type": "code",
   "execution_count": 47,
   "id": "f5b7b68b",
   "metadata": {},
   "outputs": [],
   "source": [
    "landuse = osm.get_landuse().dropna(axis=1)"
   ]
  },
  {
   "cell_type": "code",
   "execution_count": 59,
   "id": "a175ebad",
   "metadata": {},
   "outputs": [
    {
     "data": {
      "image/png": "[encoded data removed]",
      "text/plain": [
       "<Figure size 432x288 with 1 Axes>"
      ]
     },
     "metadata": {
      "needs_background": "light"
     },
     "output_type": "display_data"
    }
   ],
   "source": [
    "landuse.landuse.value_counts().head(10).plot(kind='bar')\n",
    "plt.xticks(rotation = 45)\n",
    "_ = plt.title('Number of land use areas by category')"
   ]
  },
  {
   "cell_type": "code",
   "execution_count": 49,
   "id": "63a84c16",
   "metadata": {},
   "outputs": [],
   "source": [
    "landuse.to_feather('./data/ZMB_osm_landuse_v20220418.feather')"
   ]
  },
  {
   "cell_type": "markdown",
   "id": "f279cbee",
   "metadata": {},
   "source": [
    "### 4. Buildings"
   ]
  },
  {
   "cell_type": "markdown",
   "id": "3ee738f0",
   "metadata": {},
   "source": [
    "OSM also provide building level data, some of the buildings even have tags showing their use, material, and other information. However, the same problem of uneven level of missing values affect this source of data, making it more biased for settlement prediction."
   ]
  },
  {
   "cell_type": "code",
   "execution_count": 50,
   "id": "789162a7",
   "metadata": {},
   "outputs": [],
   "source": [
    "buildings = osm.get_buildings().dropna(axis=1)\n",
    "\n",
    "buildings['geom_centroid'] = buildings.geometry.to_crs(country_utm_epsg).centroid.to_crs(buildings.crs)\n",
    "buildings = buildings.set_geometry('geom_centroid')\n",
    "\n",
    "buildings.to_feather('./data/ZMB_osm_buildings_v20220418.feather')"
   ]
  }
 ],
 "metadata": {
  "kernelspec": {
   "display_name": "Python 3 (ipykernel)",
   "language": "python",
   "name": "python3"
  },
  "language_info": {
   "codemirror_mode": {
    "name": "ipython",
    "version": 3
   },
   "file_extension": ".py",
   "mimetype": "text/x-python",
   "name": "python",
   "nbconvert_exporter": "python",
   "pygments_lexer": "ipython3",
   "version": "3.10.4"
  }
 },
 "nbformat": 4,
 "nbformat_minor": 5
}
