{
 "cells": [
  {
   "cell_type": "markdown",
   "id": "7c5fa726",
   "metadata": {},
   "source": [
    "## Import libraries"
   ]
  },
  {
   "cell_type": "code",
   "execution_count": 1,
   "id": "d68a0b6d",
   "metadata": {},
   "outputs": [],
   "source": [
    "from geo_utils import *"
   ]
  },
  {
   "cell_type": "markdown",
   "id": "1eb879e8",
   "metadata": {},
   "source": [
    "### Load settlement data, select the hamlet part"
   ]
  },
  {
   "cell_type": "code",
   "execution_count": 2,
   "id": "a052ee50",
   "metadata": {},
   "outputs": [],
   "source": [
    "# Specify country code so all output file will be labeled correctly\n",
    "country_alpha_3_code = 'ZMB'\n",
    "\n",
    "# Specify UTM zone EPSG code for this country, so that projection operation in this notebook knows the target CRS\n",
    "country_utm_epsg = 'epsg:32735'"
   ]
  },
  {
   "cell_type": "code",
   "execution_count": 28,
   "id": "75ace040",
   "metadata": {},
   "outputs": [],
   "source": [
    "settlement_extents = gpd.read_feather('./data/ZMB_grid3_settlement_extents_20201222.feather')\n",
    "\n",
    "settlement_extents.to_crs(country_utm_epsg, inplace=True)\n",
    "\n",
    "hamlet_settlements = settlement_extents.query('type == \"hamlet\"')[['mgrs_code','geometry']]"
   ]
  },
  {
   "cell_type": "code",
   "execution_count": 29,
   "id": "e8e9821e",
   "metadata": {},
   "outputs": [],
   "source": [
    "hamlet_settlements = explode_geometry(hamlet_settlements)\n",
    "\n",
    "hamlet_settlements = add_buffer_column(hamlet_settlements, -40, proj2=None, replace=True)\n",
    "\n",
    "hamlet_settlements = explode_geometry(hamlet_settlements)"
   ]
  },
  {
   "cell_type": "markdown",
   "id": "31452dad",
   "metadata": {},
   "source": [
    "### Add BP column"
   ]
  },
  {
   "cell_type": "code",
   "execution_count": 14,
   "id": "90329500",
   "metadata": {},
   "outputs": [],
   "source": [
    "building_presence_layer = read_csv_as_gpd('./data/ZM_geos_L1_2019.csv', \n",
    "                                          id_column = 'sid', \n",
    "                                          lon_lat_columns = ['lon','lat'], \n",
    "                                          attribute_columns = ['bp'], \n",
    "                                          drop_rows_where_duplicates_in_columns = ['observer','lat','lon'], \n",
    "                                          drop_rows_where_nan_in_columns = ['lat','lon','bp'])"
   ]
  },
  {
   "cell_type": "code",
   "execution_count": 16,
   "id": "bd8b4883",
   "metadata": {},
   "outputs": [],
   "source": [
    "building_presence_layer.to_crs(country_utm_epsg, inplace=True)\n",
    "\n",
    "building_presence_layer = add_buffer_column(building_presence_layer, buffer_radius = 100, cap_style = 'square', replace=True)\n",
    "\n",
    "hamlet_settlements = left_spatial_join(hamlet_settlements, building_presence_layer[['bp','geometry']])\n",
    "\n",
    "hamlet_settlements['bp_value'] = hamlet_settlements['bp'].map({'Y':1,'N':0})"
   ]
  },
  {
   "cell_type": "markdown",
   "id": "11a3560f",
   "metadata": {},
   "source": [
    "### Add HRSL column"
   ]
  },
  {
   "cell_type": "code",
   "execution_count": 17,
   "id": "06f66236",
   "metadata": {},
   "outputs": [],
   "source": [
    "hamlet_settlements, centroid_column = add_centroid_column(hamlet_settlements, return_new_column=True)\n",
    "\n",
    "hamlet_settlements[centroid_column] = hamlet_settlements[centroid_column].to_crs('epsg:4326')\n"
   ]
  },
  {
   "cell_type": "code",
   "execution_count": 20,
   "id": "c7ac133e",
   "metadata": {},
   "outputs": [],
   "source": [
    "\n",
    "hamlet_settlements = get_raster_point_value(hamlet_settlements, centroid_column, raster_filepath = './data/ZMB_HRSL_hasim_20211222.tif', new_column = 'hrsl_value')\n",
    "\n",
    "# hamlet_settlements = hamlet_settlements.drop([centroid_column], axis=1)"
   ]
  },
  {
   "cell_type": "markdown",
   "id": "bcd802bb",
   "metadata": {},
   "source": [
    "### Add WSF column"
   ]
  },
  {
   "cell_type": "code",
   "execution_count": 30,
   "id": "39131a8b",
   "metadata": {},
   "outputs": [],
   "source": [
    "hamlet_settlements.to_crs('epsg:4326', inplace=True)"
   ]
  },
  {
   "cell_type": "code",
   "execution_count": 31,
   "id": "1faa6275",
   "metadata": {},
   "outputs": [],
   "source": [
    "wsf_2019_geotiff_filepath_list = glob('./data/WSF2019/*.tif')"
   ]
  },
  {
   "cell_type": "code",
   "execution_count": 32,
   "id": "2b1889a3",
   "metadata": {},
   "outputs": [],
   "source": [
    "hamlet_settlements = add_covering_geotiff_column(hamlet_settlements, \n",
    "                                                 geom_column = 'geometry',\n",
    "                                                 geotiff_filepath_column = 'wsf2019_geotiff_filepath',\n",
    "                                                 geotiff_filepath_list = wsf_2019_geotiff_filepath_list)"
   ]
  },
  {
   "cell_type": "code",
   "execution_count": 36,
   "id": "c9fdcc89",
   "metadata": {},
   "outputs": [
    {
     "name": "stderr",
     "output_type": "stream",
     "text": [
      "100%|███████████████████████████████████████████| 56/56 [01:06<00:00,  1.18s/it]\n"
     ]
    }
   ],
   "source": [
    "hamlet_settlements = get_raster_value_distribution(hamlet_settlements, \n",
    "                                                   geom_column = 'geometry',\n",
    "                                                   uuid_column = 'mgrs_code',\n",
    "                                                   geotiff_filepath_column = 'wsf2019_geotiff_filepath',\n",
    "                                                   geotiff_filepath_list = wsf_2019_geotiff_filepath_list, \n",
    "                                                   code_to_label_mapping = {0:'no_settlement',255:'settlement'},\n",
    "                                                   label_marker = 'wsf2019')"
   ]
  },
  {
   "cell_type": "code",
   "execution_count": 38,
   "id": "58e76d54",
   "metadata": {},
   "outputs": [],
   "source": [
    "hamlet_settlements = drop_bounds_columns(hamlet_settlements)"
   ]
  },
  {
   "cell_type": "code",
   "execution_count": 41,
   "id": "02433103",
   "metadata": {},
   "outputs": [
    {
     "data": {
      "text/html": [
       "<div>\n",
       "<style scoped>\n",
       "    .dataframe tbody tr th:only-of-type {\n",
       "        vertical-align: middle;\n",
       "    }\n",
       "\n",
       "    .dataframe tbody tr th {\n",
       "        vertical-align: top;\n",
       "    }\n",
       "\n",
       "    .dataframe thead th {\n",
       "        text-align: right;\n",
       "    }\n",
       "</style>\n",
       "<table border=\"1\" class=\"dataframe\">\n",
       "  <thead>\n",
       "    <tr style=\"text-align: right;\">\n",
       "      <th></th>\n",
       "      <th>mgrs_code</th>\n",
       "      <th>geometry</th>\n",
       "      <th>wsf2019_geotiff_filepath</th>\n",
       "      <th>wsf2019__no_settlement</th>\n",
       "      <th>wsf2019__settlement</th>\n",
       "    </tr>\n",
       "  </thead>\n",
       "  <tbody>\n",
       "    <tr>\n",
       "      <th>0</th>\n",
       "      <td>35LLG6741_02</td>\n",
       "      <td>POLYGON ((25.78240 -12.28583, 25.78258 -12.285...</td>\n",
       "      <td>./data/WSF2019/WSF2019_v1_24_-14.tif</td>\n",
       "      <td>3239</td>\n",
       "      <td>119</td>\n",
       "    </tr>\n",
       "    <tr>\n",
       "      <th>1</th>\n",
       "      <td>36LUM0662_05</td>\n",
       "      <td>POLYGON ((31.21574 -12.09164, 31.21604 -12.091...</td>\n",
       "      <td>./data/WSF2019/WSF2019_v1_30_-14.tif</td>\n",
       "      <td>3488</td>\n",
       "      <td>100</td>\n",
       "    </tr>\n",
       "    <tr>\n",
       "      <th>2</th>\n",
       "      <td>36LUM0662_05</td>\n",
       "      <td>POLYGON ((31.21574 -12.09164, 31.21604 -12.091...</td>\n",
       "      <td>./data/WSF2019/WSF2019_v1_30_-14.tif</td>\n",
       "      <td>34</td>\n",
       "      <td>2</td>\n",
       "    </tr>\n",
       "    <tr>\n",
       "      <th>3</th>\n",
       "      <td>36LUM0662_05</td>\n",
       "      <td>POLYGON ((31.21574 -12.09164, 31.21604 -12.091...</td>\n",
       "      <td>./data/WSF2019/WSF2019_v1_30_-14.tif</td>\n",
       "      <td>34</td>\n",
       "      <td>1</td>\n",
       "    </tr>\n",
       "    <tr>\n",
       "      <th>4</th>\n",
       "      <td>36LSM7733_01</td>\n",
       "      <td>POLYGON ((30.03934 -12.34972, 30.03876 -12.349...</td>\n",
       "      <td>./data/WSF2019/WSF2019_v1_30_-14.tif</td>\n",
       "      <td>3900</td>\n",
       "      <td>180</td>\n",
       "    </tr>\n",
       "    <tr>\n",
       "      <th>...</th>\n",
       "      <td>...</td>\n",
       "      <td>...</td>\n",
       "      <td>...</td>\n",
       "      <td>...</td>\n",
       "      <td>...</td>\n",
       "    </tr>\n",
       "    <tr>\n",
       "      <th>726599</th>\n",
       "      <td>36LUK1417_03</td>\n",
       "      <td>POLYGON ((31.28305 -14.30617, 31.28306 -14.306...</td>\n",
       "      <td>./data/WSF2019/WSF2019_v1_30_-16.tif</td>\n",
       "      <td>903</td>\n",
       "      <td>69</td>\n",
       "    </tr>\n",
       "    <tr>\n",
       "      <th>726600</th>\n",
       "      <td>36LUK1417_03</td>\n",
       "      <td>POLYGON ((31.28305 -14.30617, 31.28306 -14.306...</td>\n",
       "      <td>./data/WSF2019/WSF2019_v1_30_-16.tif</td>\n",
       "      <td>107</td>\n",
       "      <td>3</td>\n",
       "    </tr>\n",
       "    <tr>\n",
       "      <th>726601</th>\n",
       "      <td>36LUK1417_03</td>\n",
       "      <td>POLYGON ((31.28305 -14.30617, 31.28306 -14.306...</td>\n",
       "      <td>./data/WSF2019/WSF2019_v1_30_-16.tif</td>\n",
       "      <td>0</td>\n",
       "      <td>0</td>\n",
       "    </tr>\n",
       "    <tr>\n",
       "      <th>726602</th>\n",
       "      <td>35LPD6904_05</td>\n",
       "      <td>POLYGON ((28.57539 -15.32678, 28.57539 -15.326...</td>\n",
       "      <td>./data/WSF2019/WSF2019_v1_28_-16.tif</td>\n",
       "      <td>1110</td>\n",
       "      <td>45</td>\n",
       "    </tr>\n",
       "    <tr>\n",
       "      <th>726603</th>\n",
       "      <td>35LPD6904_05</td>\n",
       "      <td>POLYGON ((28.57539 -15.32678, 28.57539 -15.326...</td>\n",
       "      <td>./data/WSF2019/WSF2019_v1_28_-16.tif</td>\n",
       "      <td>0</td>\n",
       "      <td>0</td>\n",
       "    </tr>\n",
       "  </tbody>\n",
       "</table>\n",
       "<p>726604 rows × 5 columns</p>\n",
       "</div>"
      ],
      "text/plain": [
       "           mgrs_code                                           geometry  \\\n",
       "0       35LLG6741_02  POLYGON ((25.78240 -12.28583, 25.78258 -12.285...   \n",
       "1       36LUM0662_05  POLYGON ((31.21574 -12.09164, 31.21604 -12.091...   \n",
       "2       36LUM0662_05  POLYGON ((31.21574 -12.09164, 31.21604 -12.091...   \n",
       "3       36LUM0662_05  POLYGON ((31.21574 -12.09164, 31.21604 -12.091...   \n",
       "4       36LSM7733_01  POLYGON ((30.03934 -12.34972, 30.03876 -12.349...   \n",
       "...              ...                                                ...   \n",
       "726599  36LUK1417_03  POLYGON ((31.28305 -14.30617, 31.28306 -14.306...   \n",
       "726600  36LUK1417_03  POLYGON ((31.28305 -14.30617, 31.28306 -14.306...   \n",
       "726601  36LUK1417_03  POLYGON ((31.28305 -14.30617, 31.28306 -14.306...   \n",
       "726602  35LPD6904_05  POLYGON ((28.57539 -15.32678, 28.57539 -15.326...   \n",
       "726603  35LPD6904_05  POLYGON ((28.57539 -15.32678, 28.57539 -15.326...   \n",
       "\n",
       "                    wsf2019_geotiff_filepath  wsf2019__no_settlement  \\\n",
       "0       ./data/WSF2019/WSF2019_v1_24_-14.tif                    3239   \n",
       "1       ./data/WSF2019/WSF2019_v1_30_-14.tif                    3488   \n",
       "2       ./data/WSF2019/WSF2019_v1_30_-14.tif                      34   \n",
       "3       ./data/WSF2019/WSF2019_v1_30_-14.tif                      34   \n",
       "4       ./data/WSF2019/WSF2019_v1_30_-14.tif                    3900   \n",
       "...                                      ...                     ...   \n",
       "726599  ./data/WSF2019/WSF2019_v1_30_-16.tif                     903   \n",
       "726600  ./data/WSF2019/WSF2019_v1_30_-16.tif                     107   \n",
       "726601  ./data/WSF2019/WSF2019_v1_30_-16.tif                       0   \n",
       "726602  ./data/WSF2019/WSF2019_v1_28_-16.tif                    1110   \n",
       "726603  ./data/WSF2019/WSF2019_v1_28_-16.tif                       0   \n",
       "\n",
       "        wsf2019__settlement  \n",
       "0                       119  \n",
       "1                       100  \n",
       "2                         2  \n",
       "3                         1  \n",
       "4                       180  \n",
       "...                     ...  \n",
       "726599                   69  \n",
       "726600                    3  \n",
       "726601                    0  \n",
       "726602                   45  \n",
       "726603                    0  \n",
       "\n",
       "[726604 rows x 5 columns]"
      ]
     },
     "execution_count": 41,
     "metadata": {},
     "output_type": "execute_result"
    }
   ],
   "source": [
    "hamlet_settlements"
   ]
  },
  {
   "cell_type": "markdown",
   "id": "cea1d479",
   "metadata": {},
   "source": [
    "### Add Google column"
   ]
  },
  {
   "cell_type": "code",
   "execution_count": 12,
   "id": "ef1e16b3",
   "metadata": {},
   "outputs": [],
   "source": [
    "google_buildings_layer = read_csv_as_gpd('./data/ZMB_google_buildings_footprint.csv', \n",
    "                                          id_column = None, \n",
    "                                          lon_lat_columns = ['longitude','latitude'], \n",
    "                                          drop_rows_where_duplicates_in_columns = ['longitude','latitude']\n",
    "                                        )"
   ]
  },
  {
   "cell_type": "code",
   "execution_count": 13,
   "id": "351fe5d1",
   "metadata": {},
   "outputs": [],
   "source": [
    "google_buildings_layer = left_spatial_join(google_buildings_layer, hamlet_settlements[['mgrs_code','geometry']])"
   ]
  },
  {
   "cell_type": "code",
   "execution_count": 14,
   "id": "b488d569",
   "metadata": {},
   "outputs": [],
   "source": [
    "settlements_with_google_builing = google_buildings_layer.dropna()['mgrs_code'].unique().tolist()\n",
    "\n",
    "hamlet_settlements.loc[hamlet_settlements['mgrs_code'].isin(settlements_with_google_builing),'google_value'] = 1\n",
    "\n",
    "hamlet_settlements['google_value'] = hamlet_settlements['google_value'].fillna(0)"
   ]
  }
 ],
 "metadata": {
  "kernelspec": {
   "display_name": "Python 3 (ipykernel)",
   "language": "python",
   "name": "python3"
  },
  "language_info": {
   "codemirror_mode": {
    "name": "ipython",
    "version": 3
   },
   "file_extension": ".py",
   "mimetype": "text/x-python",
   "name": "python",
   "nbconvert_exporter": "python",
   "pygments_lexer": "ipython3",
   "version": "3.10.4"
  }
 },
 "nbformat": 4,
 "nbformat_minor": 5
}
